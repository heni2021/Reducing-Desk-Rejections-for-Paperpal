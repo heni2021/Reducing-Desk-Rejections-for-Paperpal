{
 "cells": [
  {
   "cell_type": "code",
   "execution_count": 33,
   "id": "e78b6166",
   "metadata": {},
   "outputs": [
    {
     "name": "stdout",
     "output_type": "stream",
     "text": [
      "Enter total data: 10\n"
     ]
    }
   ],
   "source": [
    "n = int(input(\"Enter total data: \"))\n",
    "text = []"
   ]
  },
  {
   "cell_type": "code",
   "execution_count": 35,
   "id": "4236d579",
   "metadata": {},
   "outputs": [
    {
     "name": "stdout",
     "output_type": "stream",
     "text": [
      "Enter data : Mikael Flensberg, PhD, University of London, UK\n",
      "Enter data : Flensberg, Mikael, PhD, UK\n",
      "Enter data : Dr. Kosh Mehnagar, Gujarat\n",
      "Enter data : Chaudhary Kripal k, PhD, University of Britain, UK\n",
      "Enter data : Arvind Kumar Nages\n",
      "Enter data : Ms. Brinda Kapoor, Diploma, Institute Of Technology, Nirma University, Ahmedabad\n",
      "Enter data : Nagar, Yogesh, Phd, Nirma University, Ahmedabad\n",
      "Enter data : Diya Patel\n",
      "Enter data : Shah Krupal S, B.Tech, PDEU, Gandhinagar\n",
      "Enter data : Milav S Shah, SDE, Palanpur University, Palanpur\n"
     ]
    }
   ],
   "source": [
    "for i in range(n):\n",
    "    s = input(\"Enter data : \")\n",
    "    text.append(s)"
   ]
  },
  {
   "cell_type": "code",
   "execution_count": 35,
   "id": "3c958cfb",
   "metadata": {},
   "outputs": [
    {
     "name": "stdout",
     "output_type": "stream",
     "text": [
      "Enter Text: Dr. Kajal Mukherjee, MTech, Nirma University, Ahmedabad\n"
     ]
    }
   ],
   "source": [
    "text = []\n",
    "x = input(\"Enter Text: \")\n",
    "text.append(x)"
   ]
  },
  {
   "cell_type": "code",
   "execution_count": 48,
   "id": "9be4cee2",
   "metadata": {},
   "outputs": [],
   "source": [
    "import re\n",
    "def check_author_format(author):\n",
    "    pattern = r'^[A-Za-z.]+\\s[A-Za-z]+\\s[A-Za-z]+(?:,\\s[A-Za-z ]+)?(?:,\\s*[A-Za-z ]+)?(?:,\\s[A-za-z]+)$'\n",
    "    match = re.match(pattern, author)\n",
    "    if match:\n",
    "        return True\n",
    "    else:\n",
    "        return False"
   ]
  },
  {
   "cell_type": "code",
   "execution_count": 49,
   "id": "be616dc7",
   "metadata": {},
   "outputs": [],
   "source": [
    "def suggest_author_changes(author):\n",
    "    # Define regular expression patterns for each part of the author name\n",
    "    title_pattern = r'^[A-Za-z.]+\\s'\n",
    "    first_name_pattern = r'[A-Za-z]+\\s'\n",
    "    last_name_pattern = r'[A-Za-z]+$'\n",
    "    qualification_pattern = r',\\s*[A-Za-z ]+'\n",
    "    college_pattern = r',\\s*[A-Za-z ]+'\n",
    "    location_pattern = r',\\s*[A-Za-z ]+$'\n",
    "\n",
    "    # Check if author name matches desired format\n",
    "    desired_pattern = title_pattern + first_name_pattern + last_name_pattern + qualification_pattern + college_pattern + location_pattern\n",
    "    if re.match(desired_pattern, author):\n",
    "        print(f\"{author}: The author name is in the desired format.\")\n",
    "        return author\n",
    "    \n",
    "    # If author name does not match desired format, suggest changes\n",
    "    parts = re.findall(r'[A-Za-z.]+', author)\n",
    "    if len(parts) >= 2:\n",
    "        # If first and last name are present, assume correct order and suggest adding other parts\n",
    "        suggested_name = f\"{parts[0]}. {parts[1]} {re.findall(last_name_pattern, author)[0]}\"\n",
    "        if re.search(qualification_pattern, author):\n",
    "            suggested_name += re.findall(qualification_pattern, author)[0]\n",
    "        if re.search(college_pattern, author):\n",
    "            suggested_name += re.findall(college_pattern, author)[0]\n",
    "        if re.search(location_pattern, author):\n",
    "            suggested_name += re.findall(location_pattern, author)[0]\n",
    "        print(\"********************************************************\")\n",
    "        print(f\"{author} -> {suggested_name}\")\n",
    "        return suggested_name\n",
    "    else:\n",
    "        print(\"=============================================================\")\n",
    "        print(f\"{author} is not in the correct format and could not be modified.\")\n",
    "        return author"
   ]
  },
  {
   "cell_type": "code",
   "execution_count": 50,
   "id": "1a141a17",
   "metadata": {},
   "outputs": [
    {
     "name": "stdout",
     "output_type": "stream",
     "text": [
      "Author format is correct: Dr. Kajal Mukherjee, MTech, Nirma University, Ahmedabad\n"
     ]
    }
   ],
   "source": [
    "for author in text:\n",
    "    if not check_author_format(author):\n",
    "        print(f\"Author format is incorrect: {author}\")\n",
    "        print(\"***********************************************************\")\n",
    "        print(\"Accepted Format: (Professional_Title)+(First_Name)+(Last_Name)+(Highest_Qualification)+(College_Name)+(Location)\")\n",
    "        print(\"***********************************************************\")\n",
    "#         suggested_author = suggest_author_changes(author)\n",
    "#         print(f\"Original author name: {author}\")\n",
    "#         print(f\"Suggested author name: {suggested_author}\")\n",
    "    else:\n",
    "        print(f\"Author format is correct: {author}\")"
   ]
  },
  {
   "cell_type": "code",
   "execution_count": null,
   "id": "39aaa939",
   "metadata": {},
   "outputs": [],
   "source": []
  }
 ],
 "metadata": {
  "kernelspec": {
   "display_name": "Python 3 (ipykernel)",
   "language": "python",
   "name": "python3"
  },
  "language_info": {
   "codemirror_mode": {
    "name": "ipython",
    "version": 3
   },
   "file_extension": ".py",
   "mimetype": "text/x-python",
   "name": "python",
   "nbconvert_exporter": "python",
   "pygments_lexer": "ipython3",
   "version": "3.9.7"
  }
 },
 "nbformat": 4,
 "nbformat_minor": 5
}
