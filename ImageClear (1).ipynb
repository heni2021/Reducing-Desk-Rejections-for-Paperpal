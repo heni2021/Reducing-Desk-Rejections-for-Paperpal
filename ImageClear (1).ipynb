{
 "cells": [
  {
   "cell_type": "code",
   "execution_count": 1,
   "id": "c8fd548a",
   "metadata": {},
   "outputs": [],
   "source": [
    "import zipfile as zf\n",
    "files = zf.ZipFile(\"imgFolder.zip\", 'r')\n",
    "files.extractall('imgFolder')\n",
    "files.close()"
   ]
  },
  {
   "cell_type": "code",
   "execution_count": 9,
   "id": "a645d0bd",
   "metadata": {},
   "outputs": [
    {
     "name": "stdout",
     "output_type": "stream",
     "text": [
      "['clr_img.jpg', 'download.jpg', 'image.jpg', 'images (2).jpg', 'image_deblurred.jpg', 'img1.jpg', 'img1_deblurred.jpg', 'spotify.jpeg']\n"
     ]
    }
   ],
   "source": [
    "import os\n",
    "\n",
    "# specify the folder path\n",
    "folder_path = \"imgFolder/imgFolder/\"\n",
    "\n",
    "# get a list of all files in the folder\n",
    "file_list = os.listdir(folder_path)\n",
    "\n",
    "# filter the list to include only image files\n",
    "image_list = [file for file in file_list if file.endswith(('.jpg', '.jpeg', '.png', '.gif'))]\n",
    "\n",
    "# print the list of image files\n",
    "print(image_list)\n"
   ]
  },
  {
   "cell_type": "code",
   "execution_count": 10,
   "id": "c07e4f73",
   "metadata": {},
   "outputs": [
    {
     "name": "stdout",
     "output_type": "stream",
     "text": [
      "59.344733748012345\n",
      "clr_img.jpg is sharp.\n",
      "\n",
      "\n",
      "4902.465095901381\n",
      "download.jpg is sharp.\n",
      "\n",
      "\n",
      "33.89954225094124\n",
      "image.jpg is blurry.\n",
      "\n",
      "\n",
      "841.0380385149891\n",
      "images (2).jpg is sharp.\n",
      "\n",
      "\n",
      "1131.69634367511\n",
      "image_deblurred.jpg is sharp.\n",
      "\n",
      "\n",
      "7.564794217937646\n",
      "img1.jpg is blurry.\n",
      "\n",
      "\n",
      "23021.740638130617\n",
      "img1_deblurred.jpg is sharp.\n",
      "\n",
      "\n",
      "289.2460222222222\n",
      "spotify.jpeg is sharp.\n",
      "\n",
      "\n"
     ]
    }
   ],
   "source": [
    "#checking blurriness of image\n",
    "import cv2\n",
    "from scipy.signal import wiener\n",
    "\n",
    "# loop over all image files in the folder\n",
    "for filename in os.listdir(folder_path):\n",
    "    if filename.endswith(('.jpg', '.jpeg', '.png', '.gif')):\n",
    "        # read the image file\n",
    "        img_path = os.path.join(folder_path, filename)\n",
    "        img = cv2.imread(img_path)\n",
    "        \n",
    "        # calculate the image sharpness using Laplacian operator\n",
    "        gray = cv2.cvtColor(img, cv2.COLOR_BGR2GRAY)\n",
    "        sharpness = cv2.Laplacian(gray, cv2.CV_64F).var()\n",
    "        print(sharpness)\n",
    "        # determine whether the image is blurry or not\n",
    "        if sharpness < 40:\n",
    "            print(f'{filename} is blurry.')\n",
    "            \n",
    "            #try to clear the image\n",
    "            # convert image to grayscale\n",
    "            gray = cv2.cvtColor(img, cv2.COLOR_BGR2GRAY)\n",
    "            # apply the Wiener filter to the grayscale image\n",
    "            deblurred = wiener(gray, (5, 5))\n",
    "            # convert the deblurred image back to BGR format\n",
    "            deblurred_bgr = cv2.cvtColor(deblurred.astype('uint8'), cv2.COLOR_GRAY2BGR)\n",
    "            # save the deblurred image to a new file\n",
    "            new_filename = os.path.splitext(filename)[0] + '_deblurred.jpg'\n",
    "            cv2.imwrite(os.path.join(folder_path, new_filename), deblurred_bgr)\n",
    "        else:\n",
    "            print(f'{filename} is sharp.')\n",
    "        print(\"\\n\")\n"
   ]
  },
  {
   "cell_type": "code",
   "execution_count": null,
   "id": "240d3ec5",
   "metadata": {},
   "outputs": [],
   "source": []
  }
 ],
 "metadata": {
  "kernelspec": {
   "display_name": "Python 3 (ipykernel)",
   "language": "python",
   "name": "python3"
  },
  "language_info": {
   "codemirror_mode": {
    "name": "ipython",
    "version": 3
   },
   "file_extension": ".py",
   "mimetype": "text/x-python",
   "name": "python",
   "nbconvert_exporter": "python",
   "pygments_lexer": "ipython3",
   "version": "3.9.13"
  }
 },
 "nbformat": 4,
 "nbformat_minor": 5
}
