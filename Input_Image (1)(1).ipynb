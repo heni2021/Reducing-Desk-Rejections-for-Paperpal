{
 "cells": [
  {
   "cell_type": "code",
   "execution_count": 2,
   "id": "8ffe12c6",
   "metadata": {},
   "outputs": [],
   "source": [
    "import cv2\n",
    "from scipy.signal import wiener\n",
    "import os\n",
    "import pickle\n",
    "import joblib"
   ]
  },
  {
   "cell_type": "code",
   "execution_count": 3,
   "id": "c3939119",
   "metadata": {},
   "outputs": [
    {
     "name": "stdout",
     "output_type": "stream",
     "text": [
      "Enter the path of the image: image.jpg\n",
      "The image is blurry.\n",
      "Sharpness of the image before enhancing its quality :  33.89954225094124\n",
      "Sharpness of the image after enhancing its quality :  501.00957287855323\n"
     ]
    },
    {
     "data": {
      "text/plain": [
       "['imageQualityChecker.pkl']"
      ]
     },
     "execution_count": 3,
     "metadata": {},
     "output_type": "execute_result"
    }
   ],
   "source": [
    "# Load the image\n",
    "image_path = input(\"Enter the path of the image: \")\n",
    "image = cv2.imread(image_path)\n",
    "\n",
    "if image is not None:\n",
    "    # Convert the image to grayscale\n",
    "    gray = cv2.cvtColor(image, cv2.COLOR_BGR2GRAY)\n",
    "\n",
    "    # Compute the variance of Laplacian of the image\n",
    "    variance = cv2.Laplacian(gray, cv2.CV_64F).var()\n",
    "\n",
    "    # Check if the image is blurry\n",
    "    if variance < 40:\n",
    "        print(\"The image is blurry.\")\n",
    "        print(\"Sharpness of the image before enhancing its quality : \",variance)\n",
    "        #try to clear the image\n",
    "        # convert image to grayscale\n",
    "        gray = cv2.cvtColor(image, cv2.COLOR_BGR2GRAY)\n",
    "        # apply the Wiener filter to the grayscale image\n",
    "        deblurred = wiener(gray, (5, 5))\n",
    "        # compute the variance of Laplacian of the deblurred image\n",
    "        variance = cv2.Laplacian(deblurred, cv2.CV_64F).var()\n",
    "        print(\"Sharpness of the image after enhancing its quality : \",variance)\n",
    "        # Display the original and deblurred image\n",
    "#         cv2.imshow(\"Original\", image)\n",
    "#         cv2.imshow(\"Deblurred\", deblurred)\n",
    "#         cv2.waitKey(0)\n",
    "#         cv2.destroyAllWindows()\n",
    "\n",
    "    else:\n",
    "        print(\"The image is not blurry.\")\n",
    "else:\n",
    "    print(\"Failed to load image from file.\")\n",
    "\n",
    "joblib.dump(image_path,'imageQualityChecker.pkl')"
   ]
  },
  {
   "cell_type": "code",
   "execution_count": 26,
   "id": "a30848b0",
   "metadata": {},
   "outputs": [
    {
     "name": "stdout",
     "output_type": "stream",
     "text": [
      "Enter the path of the image: image.jpg\n",
      "The image is blurry.\n",
      "Sharpness of the image before enhancing its quality :  33.89954225094124\n",
      "Sharpness of the image after enhancing its quality :  23.045727302835086\n"
     ]
    }
   ],
   "source": [
    "# import cv2\n",
    "# from scipy.signal import wiener\n",
    "# import os\n",
    "\n",
    "# # Load the image\n",
    "# image_path = input(\"Enter the path of the image: \")\n",
    "# image = cv2.imread(image_path)\n",
    "\n",
    "# if image is not None:\n",
    "#     # Convert the image to grayscale\n",
    "#     gray = cv2.cvtColor(image, cv2.COLOR_BGR2GRAY)\n",
    "\n",
    "#     # Compute the variance of Laplacian of the image\n",
    "#     variance = cv2.Laplacian(gray, cv2.CV_64F).var()\n",
    "\n",
    "#     # Check if the image is blurry\n",
    "#     if variance < 40:\n",
    "#         print(\"The image is blurry.\")\n",
    "#         print(\"Sharpness of the image before enhancing its quality : \",variance)\n",
    "#         #try to clear the image\n",
    "#         # convert image to grayscale\n",
    "#         gray = cv2.cvtColor(image, cv2.COLOR_BGR2GRAY)\n",
    "#         # apply the Wiener filter to the grayscale image\n",
    "#         deblurred = wiener(gray, (5, 5))\n",
    "#         # normalize the pixel values of the image\n",
    "#         deblurred = cv2.normalize(deblurred, None, 0, 255, cv2.NORM_MINMAX, cv2.CV_8U)\n",
    "#         # compute the variance of Laplacian of the deblurred image\n",
    "#         variance = cv2.Laplacian(deblurred, cv2.CV_64F).var()\n",
    "#         print(\"Sharpness of the image after enhancing its quality : \",variance)\n",
    "#         # Display the original and deblurred image\n",
    "#         cv2.imshow(\"Original\", image)\n",
    "#         cv2.imshow(\"Deblurred\", deblurred)\n",
    "#         cv2.waitKey(0)\n",
    "#         cv2.destroyAllWindows()\n",
    "\n",
    "#     else:\n",
    "#         print(\"The image is not blurry.\")\n",
    "# else:\n",
    "#     print(\"Failed to load image from file.\")\n"
   ]
  },
  {
   "cell_type": "code",
   "execution_count": null,
   "id": "1b151345",
   "metadata": {},
   "outputs": [],
   "source": []
  }
 ],
 "metadata": {
  "kernelspec": {
   "display_name": "Python 3 (ipykernel)",
   "language": "python",
   "name": "python3"
  },
  "language_info": {
   "codemirror_mode": {
    "name": "ipython",
    "version": 3
   },
   "file_extension": ".py",
   "mimetype": "text/x-python",
   "name": "python",
   "nbconvert_exporter": "python",
   "pygments_lexer": "ipython3",
   "version": "3.9.13"
  }
 },
 "nbformat": 4,
 "nbformat_minor": 5
}
