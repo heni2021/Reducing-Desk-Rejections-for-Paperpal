{
 "cells": [
  {
   "cell_type": "markdown",
   "id": "af0b6de5",
   "metadata": {},
   "source": [
    "# Running "
   ]
  },
  {
   "cell_type": "code",
   "execution_count": 1,
   "id": "317bc9d4",
   "metadata": {},
   "outputs": [],
   "source": [
    "import zipfile as zf\n",
    "files = zf.ZipFile(\"images.zip\", 'r')\n",
    "files.extractall('images')\n",
    "files.close()"
   ]
  },
  {
   "cell_type": "code",
   "execution_count": 2,
   "id": "ba05e9db",
   "metadata": {},
   "outputs": [],
   "source": [
    "import fitz\n",
    "import os\n",
    "from PIL import Image"
   ]
  },
  {
   "cell_type": "code",
   "execution_count": 3,
   "id": "0f6ffc41",
   "metadata": {},
   "outputs": [],
   "source": [
    "file_path = 'sample.pdf'"
   ]
  },
  {
   "cell_type": "code",
   "execution_count": 4,
   "id": "77c5f864",
   "metadata": {},
   "outputs": [],
   "source": [
    "pdf_file = fitz.open(file_path)"
   ]
  },
  {
   "cell_type": "code",
   "execution_count": 5,
   "id": "20ecdc2d",
   "metadata": {},
   "outputs": [],
   "source": [
    "page_nums = len(pdf_file)"
   ]
  },
  {
   "cell_type": "code",
   "execution_count": 6,
   "id": "22c25914",
   "metadata": {},
   "outputs": [],
   "source": [
    "images_list = []"
   ]
  },
  {
   "cell_type": "code",
   "execution_count": 7,
   "id": "9de44329",
   "metadata": {},
   "outputs": [],
   "source": [
    "for page_num in range(page_nums):\n",
    "    page_content = pdf_file[page_num]\n",
    "    images_list.extend(page_content.get_images())\n",
    "    "
   ]
  },
  {
   "cell_type": "code",
   "execution_count": 8,
   "id": "11f033c3",
   "metadata": {},
   "outputs": [
    {
     "name": "stdout",
     "output_type": "stream",
     "text": [
      "[(44, 0, 1429, 762, 8, 'DeviceRGB', '', 'Image1', 'DCTDecode'), (48, 0, 1000, 667, 8, 'DeviceRGB', '', 'Image1', 'DCTDecode'), (52, 0, 120, 120, 8, 'DeviceRGB', '', 'Image1', 'DCTDecode'), (53, 0, 122, 122, 8, 'DeviceRGB', '', 'Image2', 'DCTDecode'), (54, 0, 102, 153, 8, 'DeviceRGB', '', 'Image3', 'DCTDecode'), (55, 0, 1952, 976, 8, 'DeviceRGB', '', 'Image4', 'DCTDecode'), (56, 0, 1952, 976, 8, 'DeviceRGB', '', 'Image5', 'DCTDecode'), (60, 0, 180, 120, 8, 'DeviceRGB', '', 'Image1', 'DCTDecode'), (61, 0, 300, 300, 8, 'DeviceRGB', '', 'Image2', 'DCTDecode')]\n"
     ]
    }
   ],
   "source": [
    "print(images_list)"
   ]
  },
  {
   "cell_type": "code",
   "execution_count": 9,
   "id": "9485d5ca",
   "metadata": {},
   "outputs": [],
   "source": [
    "if len(images_list) == 0:\n",
    "    raise ValueError(f\"No images found in (file_path)\")"
   ]
  },
  {
   "cell_type": "code",
   "execution_count": 10,
   "id": "014635e1",
   "metadata": {},
   "outputs": [],
   "source": [
    "for i, image in enumerate(images_list, start=1):\n",
    "    xref = image[0]\n",
    "    base_image = pdf_file.extract_image(xref)\n",
    "    image_bytes = base_image['image']\n",
    "    image_ext = base_image['ext']\n",
    "    image_name = str(i)+\".\"+image_ext\n",
    "    with open(os.path.join('images/',image_name),'wb') as image_file:\n",
    "        image_file.write(image_bytes)\n",
    "        image_file.close()"
   ]
  },
  {
   "cell_type": "code",
   "execution_count": 16,
   "id": "99cff883",
   "metadata": {},
   "outputs": [
    {
     "name": "stdout",
     "output_type": "stream",
     "text": [
      "['1.jpeg', '2.jpeg', '2_deblurred.jpg', '3.jpeg', '4.jpeg', '5.jpeg', '6.jpeg', '7.jpeg', '8.jpeg', '9.jpeg']\n"
     ]
    }
   ],
   "source": [
    "import os\n",
    "\n",
    "# specify the folder path\n",
    "folder_path = \"images/\"\n",
    "\n",
    "# get a list of all files in the folder\n",
    "file_list = os.listdir(folder_path)\n",
    "\n",
    "# filter the list to include only image files\n",
    "image_list = [file for file in file_list if file.endswith(('.jpg', '.jpeg', '.png', '.gif'))]\n",
    "\n",
    "# print the list of image files\n",
    "print(image_list)\n"
   ]
  },
  {
   "cell_type": "code",
   "execution_count": 17,
   "id": "d7d29268",
   "metadata": {},
   "outputs": [
    {
     "name": "stdout",
     "output_type": "stream",
     "text": [
      "1.jpeg\n",
      "Image Format: JPEG\n",
      "Image Mode: RGB\n",
      "Image Size: (1429, 762)\n",
      "Image Size in Bytes: 408336.75\n",
      "------------------------------\n",
      "2.jpeg\n",
      "Image Format: JPEG\n",
      "Image Mode: RGB\n",
      "Image Size: (1000, 667)\n",
      "Image Size in Bytes: 250125.0\n",
      "------------------------------\n",
      "2_deblurred.jpg\n",
      "Image Format: JPEG\n",
      "Image Mode: RGB\n",
      "Image Size: (1000, 667)\n",
      "Image Size in Bytes: 250125.0\n",
      "------------------------------\n",
      "3.jpeg\n",
      "Image Format: JPEG\n",
      "Image Mode: RGB\n",
      "Image Size: (120, 120)\n",
      "Image Size in Bytes: 5400.0\n",
      "------------------------------\n",
      "4.jpeg\n",
      "Image Format: JPEG\n",
      "Image Mode: RGB\n",
      "Image Size: (122, 122)\n",
      "Image Size in Bytes: 5581.5\n",
      "------------------------------\n",
      "5.jpeg\n",
      "Image Format: JPEG\n",
      "Image Mode: RGB\n",
      "Image Size: (102, 153)\n",
      "Image Size in Bytes: 5852.25\n",
      "------------------------------\n",
      "6.jpeg\n",
      "Image Format: JPEG\n",
      "Image Mode: RGB\n",
      "Image Size: (1952, 976)\n",
      "Image Size in Bytes: 714432.0\n",
      "------------------------------\n",
      "7.jpeg\n",
      "Image Format: JPEG\n",
      "Image Mode: RGB\n",
      "Image Size: (1952, 976)\n",
      "Image Size in Bytes: 714432.0\n",
      "------------------------------\n",
      "8.jpeg\n",
      "Image Format: JPEG\n",
      "Image Mode: RGB\n",
      "Image Size: (180, 120)\n",
      "Image Size in Bytes: 8100.0\n",
      "------------------------------\n",
      "9.jpeg\n",
      "Image Format: JPEG\n",
      "Image Mode: RGB\n",
      "Image Size: (300, 300)\n",
      "Image Size in Bytes: 33750.0\n",
      "------------------------------\n"
     ]
    }
   ],
   "source": [
    "from PIL import Image\n",
    "# specify the folder path\n",
    "# folder_path = 'images/'\n",
    "\n",
    "# loop through all files in the folder\n",
    "for filename in image_list:\n",
    "    image = Image.open(os.path.join(folder_path, filename))\n",
    "    # print image properties\n",
    "#     image.show()\n",
    "    print(filename)\n",
    "    print(f\"Image Format: {image.format}\")\n",
    "    print(f\"Image Mode: {image.mode}\")\n",
    "    print(f\"Image Size: {image.size}\")\n",
    "    # calculate image size in bytes\n",
    "    img_bytes = image.size[0] * image.size[1] * len(image.getbands()) / 8\n",
    "\n",
    "    print(f\"Image Size in Bytes: {img_bytes}\")\n",
    "    print(\"------------------------------\")\n"
   ]
  },
  {
   "cell_type": "code",
   "execution_count": 19,
   "id": "cde2218f",
   "metadata": {},
   "outputs": [
    {
     "name": "stdout",
     "output_type": "stream",
     "text": [
      "135.99687206622974\n",
      "1.jpeg is sharp.\n",
      "\n",
      "\n",
      "37.22534589167187\n",
      "2.jpeg is blurry.\n",
      "\n",
      "\n",
      "1170.5783227742293\n",
      "2_deblurred.jpg is sharp.\n",
      "\n",
      "\n",
      "4596.734145814044\n",
      "3.jpeg is sharp.\n",
      "\n",
      "\n",
      "2942.4892377564856\n",
      "4.jpeg is sharp.\n",
      "\n",
      "\n",
      "403.0208614972744\n",
      "5.jpeg is sharp.\n",
      "\n",
      "\n",
      "233.812431458674\n",
      "6.jpeg is sharp.\n",
      "\n",
      "\n",
      "234.92917836688036\n",
      "7.jpeg is sharp.\n",
      "\n",
      "\n",
      "8043.364398043124\n",
      "8.jpeg is sharp.\n",
      "\n",
      "\n",
      "298.82671111111114\n",
      "9.jpeg is sharp.\n",
      "\n",
      "\n"
     ]
    }
   ],
   "source": [
    "#checking blurriness of image\n",
    "import cv2\n",
    "from scipy.signal import wiener\n",
    "\n",
    "# loop over all image files in the folder\n",
    "for filename in os.listdir(folder_path):\n",
    "    if filename.endswith(('.jpg', '.jpeg', '.png', '.gif')):\n",
    "        # read the image file\n",
    "        img_path = os.path.join(folder_path, filename)\n",
    "        img = cv2.imread(img_path)\n",
    "\n",
    "        # calculate the image sharpness using Laplacian operator\n",
    "        gray = cv2.cvtColor(img, cv2.COLOR_BGR2GRAY)\n",
    "        sharpness = cv2.Laplacian(gray, cv2.CV_64F).var()\n",
    "        print(sharpness)\n",
    "        # determine whether the image is blurry or not\n",
    "        if sharpness < 40:\n",
    "            print(f'{filename} is blurry.')\n",
    "            \n",
    "            #try to clear the image\n",
    "            # convert image to grayscale\n",
    "            gray = cv2.cvtColor(img, cv2.COLOR_BGR2GRAY)\n",
    "            # apply the Wiener filter to the grayscale image\n",
    "            deblurred = wiener(gray, (5, 5))\n",
    "            # convert the deblurred image back to BGR format\n",
    "            deblurred_bgr = cv2.cvtColor(deblurred.astype('uint8'), cv2.COLOR_GRAY2BGR)\n",
    "            # save the deblurred image to a new file\n",
    "            new_filename = os.path.splitext(filename)[0] + '_deblurred.jpg'\n",
    "            cv2.imwrite(os.path.join(folder_path, new_filename), deblurred_bgr)\n",
    "        else:\n",
    "            print(f'{filename} is sharp.')\n",
    "        print(\"\\n\")\n"
   ]
  },
  {
   "cell_type": "code",
   "execution_count": null,
   "id": "708996ab",
   "metadata": {},
   "outputs": [],
   "source": []
  }
 ],
 "metadata": {
  "kernelspec": {
   "display_name": "Python 3 (ipykernel)",
   "language": "python",
   "name": "python3"
  },
  "language_info": {
   "codemirror_mode": {
    "name": "ipython",
    "version": 3
   },
   "file_extension": ".py",
   "mimetype": "text/x-python",
   "name": "python",
   "nbconvert_exporter": "python",
   "pygments_lexer": "ipython3",
   "version": "3.9.13"
  }
 },
 "nbformat": 4,
 "nbformat_minor": 5
}
